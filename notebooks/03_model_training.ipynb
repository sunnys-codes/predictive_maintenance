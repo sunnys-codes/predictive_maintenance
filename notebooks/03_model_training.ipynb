{
 "cells": [
  {
   "cell_type": "code",
   "execution_count": 8,
   "id": "56caae66-55af-4fed-a5ab-35ed6d55d793",
   "metadata": {},
   "outputs": [
    {
     "name": "stdout",
     "output_type": "stream",
     "text": [
      "Predicted Failures: [0 0 0 0 0 0 0 0 0 0]\n"
     ]
    }
   ],
   "source": [
    "# Load trained Random Forest model\n",
    "import pandas as pd\n",
    "import pickle\n",
    "with open(\"../models/random_forest_model.pkl\", \"rb\") as f:\n",
    "    model = pickle.load(f)\n",
    "\n",
    "# Load dataset to test predictions\n",
    "df_test = pd.read_csv(\"../datasets/processed_maintenance_data.csv\").head(10)\n",
    "\n",
    "# Predict on test sample\n",
    "y_pred = model.predict(df_test.drop(columns=['failure']))\n",
    "\n",
    "print(\"Predicted Failures:\", y_pred)"
   ]
  },
  {
   "cell_type": "code",
   "execution_count": 9,
   "id": "0f8787e3-3638-46bf-8f49-9812fc6f09b1",
   "metadata": {},
   "outputs": [
    {
     "name": "stdout",
     "output_type": "stream",
     "text": [
      "Predicted Failures on Balanced Test Data: [0 0 0 0 0]\n"
     ]
    }
   ],
   "source": [
    "# Select 5 failure cases and 5 non-failure cases\n",
    "df_failures = df_test[df_test['failure'] == 1].head(5)  # Select failure cases\n",
    "df_non_failures = df_test[df_test['failure'] == 0].head(5)  # Select non-failure cases\n",
    "\n",
    "# Use pd.concat() instead of append()\n",
    "df_test_balanced = pd.concat([df_failures, df_non_failures], ignore_index=True)\n",
    "\n",
    "# Predict again using balanced test data\n",
    "y_pred_balanced = model.predict(df_test_balanced.drop(columns=['failure']))\n",
    "print(\"Predicted Failures on Balanced Test Data:\", y_pred_balanced)"
   ]
  },
  {
   "cell_type": "code",
   "execution_count": 11,
   "id": "031890b0-1f28-47db-b35c-9acd76937f6d",
   "metadata": {},
   "outputs": [
    {
     "name": "stdout",
     "output_type": "stream",
     "text": [
      "     device   metric1   metric2   metric3   metric4   metric5   metric6  \\\n",
      "0 -1.902274  1.323358 -0.047940 -0.053518  2.193905 -0.515755  1.485268   \n",
      "1 -1.896161 -0.865998 -0.073173 -0.037367 -0.076004 -0.515755  1.442263   \n",
      "2 -1.893104  0.722517 -0.073173 -0.053518 -0.076004 -0.139414 -0.229738   \n",
      "3 -1.890048 -0.605942 -0.073173 -0.053518 -0.076004 -0.515755  1.512983   \n",
      "4 -1.886991  0.192770 -0.073173 -0.053518 -0.076004  0.048757  0.534543   \n",
      "\n",
      "    metric7   metric8   metric9  failure  \n",
      "0 -0.039335 -0.039335 -0.021816        0  \n",
      "1 -0.039335 -0.039335 -0.047210        0  \n",
      "2 -0.039335 -0.039335 -0.047210        0  \n",
      "3 -0.039335 -0.039335 -0.047210        0  \n",
      "4 -0.039335 -0.039335 -0.036327        0  \n"
     ]
    }
   ],
   "source": [
    "import pandas as pd\n",
    "\n",
    "# Load the processed dataset\n",
    "df = pd.read_csv(\"../datasets/processed_maintenance_data.csv\")\n",
    "\n",
    "# Verify the first few rows\n",
    "print(df.head())"
   ]
  },
  {
   "cell_type": "code",
   "execution_count": 12,
   "id": "75c573a7-79e2-4610-9e65-9ba08992193c",
   "metadata": {},
   "outputs": [
    {
     "name": "stdout",
     "output_type": "stream",
     "text": [
      "Predicted Failures on Balanced Test Data: [1 1 1 1 1 0 0 0 0 0]\n",
      "\n",
      "Actual Failures in Balanced Test Data: [1 1 1 1 1 0 0 0 0 0]\n"
     ]
    }
   ],
   "source": [
    "# Select at least 5 failure cases from the full dataset\n",
    "df_failures = df[df['failure'] == 1].head(5)  # Pick actual failure cases\n",
    "df_non_failures = df[df['failure'] == 0].head(5)  # Pick non-failures for balance\n",
    "\n",
    "# Merge failure and non-failure cases\n",
    "df_test_balanced = pd.concat([df_failures, df_non_failures], ignore_index=True)\n",
    "\n",
    "# Predict again using this corrected test data\n",
    "y_pred_balanced = model.predict(df_test_balanced.drop(columns=['failure']))\n",
    "print(\"Predicted Failures on Balanced Test Data:\", y_pred_balanced)\n",
    "\n",
    "# Compare actual values\n",
    "print(\"\\nActual Failures in Balanced Test Data:\", df_test_balanced['failure'].values)"
   ]
  },
  {
   "cell_type": "code",
   "execution_count": null,
   "id": "34207184-c699-4c85-9422-dc1f01e2320c",
   "metadata": {},
   "outputs": [],
   "source": []
  }
 ],
 "metadata": {
  "kernelspec": {
   "display_name": "Python 3 (ipykernel)",
   "language": "python",
   "name": "python3"
  },
  "language_info": {
   "codemirror_mode": {
    "name": "ipython",
    "version": 3
   },
   "file_extension": ".py",
   "mimetype": "text/x-python",
   "name": "python",
   "nbconvert_exporter": "python",
   "pygments_lexer": "ipython3",
   "version": "3.12.2"
  }
 },
 "nbformat": 4,
 "nbformat_minor": 5
}
